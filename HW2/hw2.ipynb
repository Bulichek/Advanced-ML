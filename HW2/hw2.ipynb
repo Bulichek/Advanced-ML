{
 "cells": [
  {
   "cell_type": "code",
   "execution_count": 1,
   "id": "7cd20cc5",
   "metadata": {},
   "outputs": [],
   "source": [
    "import pickle\n",
    "import numpy as np\n",
    "import pandas as pd\n",
    "import datetime\n",
    "from collections import defaultdict\n",
    "from scipy import stats, sparse\n",
    "from scipy.special import expit\n",
    "from sklearn.preprocessing import OneHotEncoder\n",
    "from sklearn.linear_model import LogisticRegression, SGDClassifier\n",
    "from tqdm import tqdm\n",
    "\n",
    "import warnings\n",
    "warnings.filterwarnings('ignore')"
   ]
  },
  {
   "cell_type": "markdown",
   "id": "c73b7174",
   "metadata": {},
   "source": [
    "# 1. Подготовка данных"
   ]
  },
  {
   "cell_type": "code",
   "execution_count": 2,
   "id": "ebe04a1e",
   "metadata": {},
   "outputs": [],
   "source": [
    "with open('players.pkl', 'rb') as file1, open('results.pkl', 'rb') as file2, open('tournaments.pkl', 'rb') as file3:\n",
    "    players_dict = pickle.load(file1)\n",
    "    results_dict = pickle.load(file2)\n",
    "    tournaments_dict = pickle.load(file3)"
   ]
  },
  {
   "cell_type": "markdown",
   "id": "179bb7ff",
   "metadata": {},
   "source": [
    "Сначала отберем турниры, по дате проведения и типу."
   ]
  },
  {
   "cell_type": "code",
   "execution_count": 3,
   "id": "2297e8c9",
   "metadata": {},
   "outputs": [],
   "source": [
    "REQUIRED_TYPES = [\"Обычный\", \"Синхрон\", \"Строго синхронный\"]"
   ]
  },
  {
   "cell_type": "code",
   "execution_count": 4,
   "id": "3f05e7ce",
   "metadata": {},
   "outputs": [
    {
     "name": "stdout",
     "output_type": "stream",
     "text": [
      "Число турниров в обучающей выборке: 622\n",
      "Число турниров в тестовой выборке: 362\n"
     ]
    }
   ],
   "source": [
    "train_ids = [key for \n",
    "             key, value in tournaments_dict.items()\n",
    "             if (value['dateStart'][:4] == '2019') and\n",
    "             (value['type']['name'] in REQUIRED_TYPES)]\n",
    "\n",
    "test_ids = [key for \n",
    "            key, value in tournaments_dict.items()\n",
    "            if (value['dateStart'][:4] == '2020') and\n",
    "            value['type']['name'] in REQUIRED_TYPES]\n",
    "\n",
    "print(f'Число турниров в обучающей выборке: {len(train_ids)}')\n",
    "print(f'Число турниров в тестовой выборке: {len(test_ids)}')"
   ]
  },
  {
   "cell_type": "markdown",
   "id": "be4a2006",
   "metadata": {},
   "source": [
    "Теперь сформируем словарь, который в дальнейшем будем использовать для формирования датасетов. Он будет иметь следующий вид:\n",
    "\n",
    "```\n",
    "{\n",
    "    'tournamet1_id': {\n",
    "        'team1_id': {\n",
    "            'mask': ...,\n",
    "            'players': ...\n",
    "        },\n",
    "        \n",
    "        'team2_id': {\n",
    "            ...\n",
    "        },\n",
    "        ...\n",
    "    },\n",
    "    \n",
    "    'tournamet2_id': {\n",
    "        ...\n",
    "    }\n",
    "}\n",
    "```\n",
    "\n",
    "Параллельно выбросим те турниры (команды), для которых либо нет информации о повопросных результатах, либо вовсе отсутствуют результаты."
   ]
  },
  {
   "cell_type": "code",
   "execution_count": 5,
   "id": "3a76fcdf",
   "metadata": {},
   "outputs": [],
   "source": [
    "def form_results(ids):\n",
    "    data = defaultdict()\n",
    "    for idx in ids:\n",
    "        tournamet_result = defaultdict()\n",
    "        for i, team in enumerate(results_dict[idx]):\n",
    "            mask = team['mask']\n",
    "            if mask is not None:\n",
    "                mask = [0 if i in [\"X\", \"?\"] else int(i) for i in team['mask']]\n",
    "                team_members = [player['player']['id'] for player in team['teamMembers']]\n",
    "                team_id = team['team']['id']\n",
    "                tournamet_result[team_id] = defaultdict()\n",
    "                tournamet_result[team_id]['mask'] = mask\n",
    "                tournamet_result[team_id]['players'] = team_members\n",
    "                tournamet_result[team_id]['position'] = i + 1\n",
    "        if tournamet_result:\n",
    "            data[idx] = tournamet_result\n",
    "    return data"
   ]
  },
  {
   "cell_type": "code",
   "execution_count": 6,
   "id": "cfc0c9ef",
   "metadata": {},
   "outputs": [
    {
     "name": "stdout",
     "output_type": "stream",
     "text": [
      "Число турниров в обучающей выборке: 612\n",
      "Число турниров в тестовой выборке: 151\n"
     ]
    }
   ],
   "source": [
    "results_train = form_results(train_ids)\n",
    "results_test = form_results(test_ids)\n",
    "\n",
    "print(f'Число турниров в обучающей выборке: {len(results_train.keys())}')\n",
    "print(f'Число турниров в тестовой выборке: {len(results_test.keys())}')"
   ]
  },
  {
   "cell_type": "markdown",
   "id": "7e74ce55",
   "metadata": {},
   "source": [
    "Число турниров изменилось, в тесте значительно уменьшилось. Скорее всего это связано с отсутсвием информации о повопросных результатах."
   ]
  },
  {
   "cell_type": "markdown",
   "id": "b9b350a0",
   "metadata": {},
   "source": [
    "# 2. Baseline. Рейтинг игроков"
   ]
  },
  {
   "cell_type": "markdown",
   "id": "63da8752",
   "metadata": {},
   "source": [
    "Сформируем датасет, состоящий из пар ***player_id-question_id*** с таргетом для этой пары - ответ на вопрос верный/неверный.\n",
    "\n",
    "***question_id*** сформируем как ***tournament_id + question_id_in_tournament***."
   ]
  },
  {
   "cell_type": "code",
   "execution_count": 7,
   "id": "49ecace1",
   "metadata": {},
   "outputs": [],
   "source": [
    "def data_from_results(results):\n",
    "    data = defaultdict(list)\n",
    "    for tournament_id, tournament in results.items():\n",
    "        for team_id, team in tournament.items():\n",
    "            mask = team['mask']\n",
    "            questions_ids = [f\"{tournament_id}_{i}\" for i in range(len(mask))]\n",
    "            team_ids = [team_id for _ in range(len(mask))]\n",
    "            tournament_ids = [tournament_id for _ in range(len(mask))]\n",
    "            for player in team['players']:\n",
    "                player_ids = len(mask) * [player]\n",
    "                data['tournament_id'].extend(tournament_ids)\n",
    "                data['team_id'].extend(team_ids)\n",
    "                data['players'].extend(player_ids)\n",
    "                data['questions'].extend(questions_ids)\n",
    "                data['target'].extend(mask)\n",
    "    data_df = pd.DataFrame(data)\n",
    "    return data_df"
   ]
  },
  {
   "cell_type": "code",
   "execution_count": 27,
   "id": "056cfdfc",
   "metadata": {},
   "outputs": [],
   "source": [
    "train_data = data_from_results(results_train)\n",
    "test_data = data_from_results(results_test)"
   ]
  },
  {
   "cell_type": "code",
   "execution_count": 28,
   "id": "cce145c9",
   "metadata": {},
   "outputs": [
    {
     "name": "stdout",
     "output_type": "stream",
     "text": [
      "Число пар в обучающей выборке: 14661596\n",
      "Число пар в тестовой выборке: 3513640\n"
     ]
    }
   ],
   "source": [
    "print(f\"Число пар в обучающей выборке: {train_data.shape[0]}\")\n",
    "print(f\"Число пар в тестовой выборке: {test_data.shape[0]}\")"
   ]
  },
  {
   "cell_type": "markdown",
   "id": "e32ae7ae",
   "metadata": {},
   "source": [
    "Для обучения логистичекой регрессии необходимо каким-то образом преобразовать эти данные. Применим OneHotEncoder, т.е. получим свой вектор для каждого ***player_id*** и ***question_id***. "
   ]
  },
  {
   "cell_type": "code",
   "execution_count": 10,
   "id": "c4ce2bd1",
   "metadata": {},
   "outputs": [],
   "source": [
    "encoder = OneHotEncoder(handle_unknown='ignore')\n",
    "encoder.fit(train_data[['players', 'questions']]) \n",
    "X_train = encoder.transform(train_data[['players', 'questions']])\n",
    "y_train = train_data.target.values\n",
    "unique_players = encoder.categories_[0]"
   ]
  },
  {
   "cell_type": "code",
   "execution_count": 11,
   "id": "b4411600",
   "metadata": {},
   "outputs": [
    {
     "name": "stdout",
     "output_type": "stream",
     "text": [
      "Размерность получившихся векторов: 73911\n",
      "Число уникальных игроков: 44729\n",
      "Число уникальных вопросов: 29182\n"
     ]
    }
   ],
   "source": [
    "print(f\"Размерность получившихся векторов: {X_train.shape[1]}\")\n",
    "print(f\"Число уникальных игроков: {unique_players.shape[0]}\")\n",
    "print(f\"Число уникальных вопросов: {encoder.categories_[1].shape[0]}\")"
   ]
  },
  {
   "cell_type": "code",
   "execution_count": 12,
   "id": "ec57f448",
   "metadata": {},
   "outputs": [],
   "source": [
    "clf = LogisticRegression(max_iter=100, solver='lbfgs', n_jobs=-1, random_state=0).fit(X_train, y_train)"
   ]
  },
  {
   "cell_type": "code",
   "execution_count": 13,
   "id": "ea4ee883",
   "metadata": {},
   "outputs": [
    {
     "name": "stdout",
     "output_type": "stream",
     "text": [
      "Точность модели на обучающей выборке: 77.21 %\n"
     ]
    }
   ],
   "source": [
    "print(f\"Точность модели на обучающей выборке: {clf.score(X_train, y_train) * 100:.2f} %\")"
   ]
  },
  {
   "cell_type": "markdown",
   "id": "0d333201",
   "metadata": {},
   "source": [
    "Качество модели достаточно неплохое. Однако мы не можем использовать данную модель для предсказаний на тесте, т.к. мы не знаем сложность вопросов будущих турниров. Из полученной модели мы можем извлечь весовые коэффициенты, которые будут представлять из себя силу игрока и сложность вопроса. Так как модель предсказывает вероятность успеха, то  логично предположить, что чем больше вес, характеризующий силу игрока, тем сильнее игрок, для сложности вопроса наоборот, чем сложнее вопрос, тем вес при нем ниже, так как вероятность правильно ответить ниже.\n",
    "\n",
    "Отранжируем игроков на основе этих весов."
   ]
  },
  {
   "cell_type": "code",
   "execution_count": 14,
   "id": "da6d5828",
   "metadata": {},
   "outputs": [],
   "source": [
    "weights = clf.coef_[0][:len(unique_players)]\n",
    "players_names = [f\"{players_dict[player_id]['surname']} {players_dict[player_id]['name']}\" \n",
    "                 for player_id in unique_players]\n",
    "trained_rating = pd.DataFrame({'player_id': unique_players, 'rating': weights, 'name': players_names})\n",
    "trained_rating = trained_rating.sort_values(by='rating', ascending=False)"
   ]
  },
  {
   "cell_type": "code",
   "execution_count": 15,
   "id": "0483913d",
   "metadata": {},
   "outputs": [
    {
     "data": {
      "text/html": [
       "<div>\n",
       "<style scoped>\n",
       "    .dataframe tbody tr th:only-of-type {\n",
       "        vertical-align: middle;\n",
       "    }\n",
       "\n",
       "    .dataframe tbody tr th {\n",
       "        vertical-align: top;\n",
       "    }\n",
       "\n",
       "    .dataframe thead th {\n",
       "        text-align: right;\n",
       "    }\n",
       "</style>\n",
       "<table border=\"1\" class=\"dataframe\">\n",
       "  <thead>\n",
       "    <tr style=\"text-align: right;\">\n",
       "      <th></th>\n",
       "      <th>player_id</th>\n",
       "      <th>rating</th>\n",
       "      <th>name</th>\n",
       "    </tr>\n",
       "  </thead>\n",
       "  <tbody>\n",
       "    <tr>\n",
       "      <th>3800</th>\n",
       "      <td>27403</td>\n",
       "      <td>3.765749</td>\n",
       "      <td>Руссо Максим</td>\n",
       "    </tr>\n",
       "    <tr>\n",
       "      <th>598</th>\n",
       "      <td>4270</td>\n",
       "      <td>3.678808</td>\n",
       "      <td>Брутер Александра</td>\n",
       "    </tr>\n",
       "    <tr>\n",
       "      <th>4170</th>\n",
       "      <td>30152</td>\n",
       "      <td>3.520882</td>\n",
       "      <td>Сорожкин Артём</td>\n",
       "    </tr>\n",
       "    <tr>\n",
       "      <th>3986</th>\n",
       "      <td>28751</td>\n",
       "      <td>3.452479</td>\n",
       "      <td>Семушин Иван</td>\n",
       "    </tr>\n",
       "    <tr>\n",
       "      <th>3871</th>\n",
       "      <td>27822</td>\n",
       "      <td>3.361047</td>\n",
       "      <td>Савченков Михаил</td>\n",
       "    </tr>\n",
       "    <tr>\n",
       "      <th>4190</th>\n",
       "      <td>30270</td>\n",
       "      <td>3.317436</td>\n",
       "      <td>Спешков Сергей</td>\n",
       "    </tr>\n",
       "    <tr>\n",
       "      <th>2889</th>\n",
       "      <td>20691</td>\n",
       "      <td>3.161946</td>\n",
       "      <td>Мереминский Станислав</td>\n",
       "    </tr>\n",
       "    <tr>\n",
       "      <th>4718</th>\n",
       "      <td>34328</td>\n",
       "      <td>3.111326</td>\n",
       "      <td>Царёв Михаил</td>\n",
       "    </tr>\n",
       "    <tr>\n",
       "      <th>2536</th>\n",
       "      <td>18036</td>\n",
       "      <td>3.108858</td>\n",
       "      <td>Левандовский Михаил</td>\n",
       "    </tr>\n",
       "    <tr>\n",
       "      <th>6592</th>\n",
       "      <td>56647</td>\n",
       "      <td>3.099862</td>\n",
       "      <td>Горелова Наталья</td>\n",
       "    </tr>\n",
       "    <tr>\n",
       "      <th>978</th>\n",
       "      <td>7008</td>\n",
       "      <td>3.099049</td>\n",
       "      <td>Гилёв Алексей</td>\n",
       "    </tr>\n",
       "    <tr>\n",
       "      <th>1694</th>\n",
       "      <td>12307</td>\n",
       "      <td>3.078085</td>\n",
       "      <td>Иванцова Светлана</td>\n",
       "    </tr>\n",
       "    <tr>\n",
       "      <th>2577</th>\n",
       "      <td>18332</td>\n",
       "      <td>3.055094</td>\n",
       "      <td>Либер Александр</td>\n",
       "    </tr>\n",
       "    <tr>\n",
       "      <th>3199</th>\n",
       "      <td>22935</td>\n",
       "      <td>3.053195</td>\n",
       "      <td>Новиков Илья</td>\n",
       "    </tr>\n",
       "    <tr>\n",
       "      <th>538</th>\n",
       "      <td>3843</td>\n",
       "      <td>3.047628</td>\n",
       "      <td>Бомешко Светлана</td>\n",
       "    </tr>\n",
       "    <tr>\n",
       "      <th>5087</th>\n",
       "      <td>37047</td>\n",
       "      <td>3.043623</td>\n",
       "      <td>Юнгер Мария</td>\n",
       "    </tr>\n",
       "    <tr>\n",
       "      <th>3183</th>\n",
       "      <td>22799</td>\n",
       "      <td>3.027467</td>\n",
       "      <td>Николенко Сергей</td>\n",
       "    </tr>\n",
       "    <tr>\n",
       "      <th>2291</th>\n",
       "      <td>16332</td>\n",
       "      <td>3.007925</td>\n",
       "      <td>Крапиль Николай</td>\n",
       "    </tr>\n",
       "    <tr>\n",
       "      <th>3842</th>\n",
       "      <td>27622</td>\n",
       "      <td>3.000021</td>\n",
       "      <td>Рябых Николай</td>\n",
       "    </tr>\n",
       "    <tr>\n",
       "      <th>2365</th>\n",
       "      <td>16837</td>\n",
       "      <td>2.983661</td>\n",
       "      <td>Кудряшова Наталья</td>\n",
       "    </tr>\n",
       "    <tr>\n",
       "      <th>222</th>\n",
       "      <td>1585</td>\n",
       "      <td>2.978004</td>\n",
       "      <td>Архангельская Юлия</td>\n",
       "    </tr>\n",
       "    <tr>\n",
       "      <th>1265</th>\n",
       "      <td>9061</td>\n",
       "      <td>2.977636</td>\n",
       "      <td>Дёмин Евгений</td>\n",
       "    </tr>\n",
       "    <tr>\n",
       "      <th>2784</th>\n",
       "      <td>19915</td>\n",
       "      <td>2.949935</td>\n",
       "      <td>Марков Александр</td>\n",
       "    </tr>\n",
       "    <tr>\n",
       "      <th>7022</th>\n",
       "      <td>62252</td>\n",
       "      <td>2.937636</td>\n",
       "      <td>Боков Тимур</td>\n",
       "    </tr>\n",
       "    <tr>\n",
       "      <th>5265</th>\n",
       "      <td>38196</td>\n",
       "      <td>2.924317</td>\n",
       "      <td>Митрофанов Артём</td>\n",
       "    </tr>\n",
       "    <tr>\n",
       "      <th>67</th>\n",
       "      <td>505</td>\n",
       "      <td>2.922500</td>\n",
       "      <td>Айзятулова Иделия</td>\n",
       "    </tr>\n",
       "    <tr>\n",
       "      <th>757</th>\n",
       "      <td>5483</td>\n",
       "      <td>2.917052</td>\n",
       "      <td>Веселов Иван</td>\n",
       "    </tr>\n",
       "    <tr>\n",
       "      <th>4798</th>\n",
       "      <td>34846</td>\n",
       "      <td>2.907885</td>\n",
       "      <td>Чернин Антон</td>\n",
       "    </tr>\n",
       "    <tr>\n",
       "      <th>8041</th>\n",
       "      <td>74382</td>\n",
       "      <td>2.906407</td>\n",
       "      <td>Новосёлов Михаил</td>\n",
       "    </tr>\n",
       "    <tr>\n",
       "      <th>2203</th>\n",
       "      <td>15727</td>\n",
       "      <td>2.904186</td>\n",
       "      <td>Коробейников Александр</td>\n",
       "    </tr>\n",
       "  </tbody>\n",
       "</table>\n",
       "</div>"
      ],
      "text/plain": [
       "      player_id    rating                    name\n",
       "3800      27403  3.765749            Руссо Максим\n",
       "598        4270  3.678808       Брутер Александра\n",
       "4170      30152  3.520882          Сорожкин Артём\n",
       "3986      28751  3.452479            Семушин Иван\n",
       "3871      27822  3.361047        Савченков Михаил\n",
       "4190      30270  3.317436          Спешков Сергей\n",
       "2889      20691  3.161946   Мереминский Станислав\n",
       "4718      34328  3.111326            Царёв Михаил\n",
       "2536      18036  3.108858     Левандовский Михаил\n",
       "6592      56647  3.099862        Горелова Наталья\n",
       "978        7008  3.099049           Гилёв Алексей\n",
       "1694      12307  3.078085       Иванцова Светлана\n",
       "2577      18332  3.055094         Либер Александр\n",
       "3199      22935  3.053195            Новиков Илья\n",
       "538        3843  3.047628        Бомешко Светлана\n",
       "5087      37047  3.043623             Юнгер Мария\n",
       "3183      22799  3.027467        Николенко Сергей\n",
       "2291      16332  3.007925         Крапиль Николай\n",
       "3842      27622  3.000021           Рябых Николай\n",
       "2365      16837  2.983661       Кудряшова Наталья\n",
       "222        1585  2.978004      Архангельская Юлия\n",
       "1265       9061  2.977636           Дёмин Евгений\n",
       "2784      19915  2.949935        Марков Александр\n",
       "7022      62252  2.937636             Боков Тимур\n",
       "5265      38196  2.924317        Митрофанов Артём\n",
       "67          505  2.922500       Айзятулова Иделия\n",
       "757        5483  2.917052            Веселов Иван\n",
       "4798      34846  2.907885            Чернин Антон\n",
       "8041      74382  2.906407        Новосёлов Михаил\n",
       "2203      15727  2.904186  Коробейников Александр"
      ]
     },
     "execution_count": 15,
     "metadata": {},
     "output_type": "execute_result"
    }
   ],
   "source": [
    "trained_rating.head(30)"
   ]
  },
  {
   "cell_type": "markdown",
   "id": "71b2eeb6",
   "metadata": {},
   "source": [
    "Если взглянуть на топ, то можно увидеть достаточно известных знатоков таких, как Сорожкин, Бруттер, Руссо, Николенко и тд, которые на данный момент входят в топ 30-40."
   ]
  },
  {
   "cell_type": "markdown",
   "id": "108c3e4e",
   "metadata": {},
   "source": [
    "# 3. Предсказание результатов турниров."
   ]
  },
  {
   "cell_type": "markdown",
   "id": "e3028ac9",
   "metadata": {},
   "source": [
    "Будем ранжировать команды по вероятности ответить хотя бы на один вопрос. Будем считать, что команда ответила верно, если хотя бы один игрок ответил верно. Пусть $p_{ij}$ - вероятность того, что игрок $i$ даст верный ответ на вопрос $j$, тогда вероятность, что ни один игрок не даст ни одного верного ответа:\n",
    "\n",
    "$$\n",
    "p_{zero\\_answers} = \\prod_{i=1}^n \\prod_{j=1}^m(1 - p_{ij})\n",
    "$$\n",
    "\n",
    "Вероятность, что команда даст хотя бы один верный ответ:\n",
    "\n",
    "$$\n",
    "p = 1 - p_{zero\\_answers}\n",
    "$$\n",
    "\n",
    "Чем выше вероятность ответить хотя бы на один вопрос (чем ниже вероятность дать 0 правильных ответов), тем вышу рейтинг команды.\n",
    "\n",
    "Так как мы имеем рейтинг только для множества игроков в обучающей выборке, выбросим из тестовой выборки игроков, которых нет в обучающей. \n",
    "\n",
    "Также заменим все onehot вектора вопросов на 0, так как сложности новых вопросов мы не имеем. Можно легко заметить, что, так как мы не знаем сложности вопросов, для каждого участника мы будем получать один и тот же скор независимо от вопроса, поэтому вероятность, описанную выше, можно оценивать не по всем вопросам, а только по одному."
   ]
  },
  {
   "cell_type": "code",
   "execution_count": 16,
   "id": "31e7eb3c",
   "metadata": {},
   "outputs": [
    {
     "data": {
      "text/html": [
       "<div>\n",
       "<style scoped>\n",
       "    .dataframe tbody tr th:only-of-type {\n",
       "        vertical-align: middle;\n",
       "    }\n",
       "\n",
       "    .dataframe tbody tr th {\n",
       "        vertical-align: top;\n",
       "    }\n",
       "\n",
       "    .dataframe thead th {\n",
       "        text-align: right;\n",
       "    }\n",
       "</style>\n",
       "<table border=\"1\" class=\"dataframe\">\n",
       "  <thead>\n",
       "    <tr style=\"text-align: right;\">\n",
       "      <th></th>\n",
       "      <th>tournament_id</th>\n",
       "      <th>team_id</th>\n",
       "      <th>players</th>\n",
       "      <th>questions</th>\n",
       "      <th>target</th>\n",
       "    </tr>\n",
       "  </thead>\n",
       "  <tbody>\n",
       "    <tr>\n",
       "      <th>0</th>\n",
       "      <td>4957</td>\n",
       "      <td>49804</td>\n",
       "      <td>30152</td>\n",
       "      <td>unknown</td>\n",
       "      <td>1</td>\n",
       "    </tr>\n",
       "    <tr>\n",
       "      <th>1</th>\n",
       "      <td>4957</td>\n",
       "      <td>49804</td>\n",
       "      <td>30152</td>\n",
       "      <td>unknown</td>\n",
       "      <td>1</td>\n",
       "    </tr>\n",
       "    <tr>\n",
       "      <th>2</th>\n",
       "      <td>4957</td>\n",
       "      <td>49804</td>\n",
       "      <td>30152</td>\n",
       "      <td>unknown</td>\n",
       "      <td>1</td>\n",
       "    </tr>\n",
       "    <tr>\n",
       "      <th>3</th>\n",
       "      <td>4957</td>\n",
       "      <td>49804</td>\n",
       "      <td>30152</td>\n",
       "      <td>unknown</td>\n",
       "      <td>1</td>\n",
       "    </tr>\n",
       "    <tr>\n",
       "      <th>4</th>\n",
       "      <td>4957</td>\n",
       "      <td>49804</td>\n",
       "      <td>30152</td>\n",
       "      <td>unknown</td>\n",
       "      <td>1</td>\n",
       "    </tr>\n",
       "  </tbody>\n",
       "</table>\n",
       "</div>"
      ],
      "text/plain": [
       "   tournament_id  team_id  players questions  target\n",
       "0           4957    49804    30152   unknown       1\n",
       "1           4957    49804    30152   unknown       1\n",
       "2           4957    49804    30152   unknown       1\n",
       "3           4957    49804    30152   unknown       1\n",
       "4           4957    49804    30152   unknown       1"
      ]
     },
     "execution_count": 16,
     "metadata": {},
     "output_type": "execute_result"
    }
   ],
   "source": [
    "test_data = test_data[test_data['players'].isin(unique_players)]\n",
    "test_data['questions'] = 'unknown'\n",
    "test_data.head()"
   ]
  },
  {
   "cell_type": "code",
   "execution_count": 17,
   "id": "7fa2519a",
   "metadata": {},
   "outputs": [],
   "source": [
    "def get_correllations(data, predictions):\n",
    "    data['predictions'] = predictions\n",
    "\n",
    "    # Оставим один скор для каждого игрока в команде, так как он не зависит от вопроса\n",
    "    rating = data.drop_duplicates(['tournament_id', 'team_id', 'players', 'predictions'])\n",
    "    rating['pred_score'] = (rating\n",
    "                            .groupby(['tournament_id', 'team_id'])['predictions']\n",
    "                            .transform(lambda x: 1 - np.prod(1 - x)))\n",
    "    rating = rating[['tournament_id', 'team_id', 'pred_score']].drop_duplicates()\n",
    "\n",
    "    # Добавляем реальные позиции команд в турнире\n",
    "    rating['real_rating'] = rating[['tournament_id', 'team_id']].apply(\n",
    "                                lambda x: results_test[x.tournament_id][x.team_id]['position'],\n",
    "                                axis=1\n",
    "                            )\n",
    "\n",
    "    # Добавляем предсказанные позиции команд\n",
    "    rating = rating.sort_values(by=['tournament_id', 'pred_score'], ascending=False)\n",
    "    rating['pred_rating'] = (rating\n",
    "                             .groupby('tournament_id')['pred_score']\n",
    "                             .transform(lambda x: np.arange(1, len(x) + 1)))\n",
    "    spearman = (rating\n",
    "            .groupby('tournament_id')\n",
    "            .apply(lambda x: stats.spearmanr(x.real_rating, x.pred_rating).correlation)\n",
    "            .mean())\n",
    "\n",
    "    kendall = (rating\n",
    "                .groupby('tournament_id')\n",
    "                .apply(lambda x: stats.kendalltau(x.real_rating, x.pred_rating).correlation)\n",
    "                .mean())\n",
    "    \n",
    "    print(f'Корреляция Спирмена: {spearman:.4f}')\n",
    "    print(f'Корреляция Кендалла: {kendall:.4f}')"
   ]
  },
  {
   "cell_type": "markdown",
   "id": "f1911de8",
   "metadata": {},
   "source": [
    "Мы получили рейтинги на основе нашей бейзлайн модели, теперь сравним их с реальными, используя корреляции Спирмена и Кендалла по каждому турниру, затем усредним их."
   ]
  },
  {
   "cell_type": "code",
   "execution_count": 18,
   "id": "330b33fd",
   "metadata": {},
   "outputs": [
    {
     "name": "stdout",
     "output_type": "stream",
     "text": [
      "Корреляция Спирмена: 0.7964\n",
      "Корреляция Кендалла: 0.6257\n"
     ]
    }
   ],
   "source": [
    "X_test = encoder.transform(test_data[['players', 'questions']])\n",
    "predictions = clf.predict_proba(X_test)[:, 1]\n",
    "get_correllations(test_data, predictions)"
   ]
  },
  {
   "cell_type": "markdown",
   "id": "004c071b",
   "metadata": {},
   "source": [
    "# 4. EM алгоритм."
   ]
  },
  {
   "cell_type": "markdown",
   "id": "7f4d6aca",
   "metadata": {},
   "source": [
    "До этого мы предполагали, что, если команда ответила на вопрос, то и каждый из участников дал верный ответ. Однако в действительности мы не знаем, кто конкретно дал верный ответ. Единственное, что мы можем предполагать, так это то, что, если команда дала неверный ответ, то никто из игроков не дал верный ответ. Таким образом, получаем задачу со скрытой переменной, назовем ее $z_{ij}$, которая означает, что участник $i$ дал верный ответ на вопрос $j$.\n",
    "\n",
    "Для этой переменной существуют следующие ограничения:\n",
    "- $z_{ij}$ = 0 для всех $i \\in team$, если команда дала неверный ответ\n",
    "- $z_{ij}$ = 1 хотя бы для одного $i \\in team$, если команда дала верный ответ\n",
    "\n",
    "На Е-шаге алгоритма мы должны оценить ожидание $z_{ij}$. Получаем следующую систему:\n",
    "\n",
    "\n",
    "$$\n",
    "\\begin{equation}\n",
    "    \\mathbb{E} [z_{ij}]= \n",
    "    \\begin{cases}\n",
    "      0, \\text{ if } x_{tj} = 0\\\\\n",
    "      p(z_{ij}=1| \\exists i'\\in team, z_{i'j} = 1), \\text{ if } x_{tj} = 1\n",
    "    \\end{cases}\\,\n",
    "\\end{equation}\n",
    "$$\n",
    ", где $x_{tj}$ означает, дала ли камонда $t$ верный ответ на вопрос $j$.\n",
    "\n",
    "Вероятность легко оценить:\n",
    "\n",
    "$$\n",
    "p(z_{ij}=1| \\exists i'\\in team, z_{i'j} = 1) = \\frac{p(z_{ij}=1)}{p(\\exists i'\\in team, z_{i'j} = 1)} = \\frac{\\sigma(c_{ij})}{1 - \\prod_{i \\in team}\\sigma(c_{ij})}\n",
    "$$\n",
    ", где $c_{ij}$ - вектор, характеризующий силу игрока $i$ и сложность вопроса $j$.\n",
    "\n",
    "На М-шаге мы, так же как и в случае с baseline моделью обучаем логистическую регрессию, но уже на таргеты, полученные на Е-шаге. Важно отметить, что логистическая регрессия в sklearn не может работать с вероятностями в качестве таргета, поэтому придется написать ее вручную."
   ]
  },
  {
   "cell_type": "code",
   "execution_count": 19,
   "id": "e439555d",
   "metadata": {},
   "outputs": [],
   "source": [
    "class EM():\n",
    "    def __init__(self, in_dim, lr=15, batch_size=5000, tol=1e-6):\n",
    "        self.W = np.random.random((1, in_dim + 1))\n",
    "        self.lr = lr\n",
    "        self.batch_size = batch_size\n",
    "        self.tol = tol\n",
    "        \n",
    "    def _e_step(self, data, predictions):\n",
    "        tmp = data[['team_id', 'questions', 'target']]\n",
    "        tmp['predictions'] = 1 - predictions\n",
    "        tmp['z_denominator'] = (tmp\n",
    "                                .groupby(['team_id', 'questions'])['predictions']\n",
    "                                .transform(lambda x: 1 - np.prod(1 - x)))\n",
    "        tmp['z_denominator'] = 1 - tmp['z_denominator']\n",
    "        y = np.clip(predictions / tmp['z_denominator'], 0, 1).values\n",
    "        y[tmp['target'] == 0] = 0\n",
    "        return y.reshape(-1, 1)\n",
    "    \n",
    "    def _m_step(self, X, y):\n",
    "        for _ in range(50):\n",
    "            indices = np.random.permutation(np.arange(X.shape[0]))\n",
    "            i = 0\n",
    "            curr_loss = 0\n",
    "            for i in range(0, X.shape[0] // self.batch_size + 1):\n",
    "                batch_idx = indices[i * self.batch_size: (i + 1) * self.batch_size]\n",
    "                x_batch, y_batch = X[batch_idx], y[batch_idx]\n",
    "                grad_W = (self.predict(x_batch) - y_batch).T @ x_batch / X.shape[0]\n",
    "                self.W -= self.lr * grad_W\n",
    "\n",
    "    def fit(self, X_train, train_data, X_test, test_data, n_iter=5):\n",
    "        X_train = sparse.hstack((np.ones((X_train.shape[0], 1)), X_train), format='csr')\n",
    "        X_test = sparse.hstack((np.ones((X_test.shape[0], 1)), X_test), format='csr')\n",
    "        for i in tqdm(range(n_iter)):\n",
    "            prediction = self.predict(X_train)[:, 0]\n",
    "            y = self._e_step(train_data, prediction)\n",
    "            self._m_step(X_train, y)\n",
    "            get_correllations(test_data, self.predict(X_test))\n",
    "\n",
    "    def predict(self, X):\n",
    "        if self.W.shape[1] != X.shape[1]:\n",
    "            X = sparse.hstack((np.ones((X.shape[0], 1)), X), format='csr')\n",
    "        return expit(X @ self.W.T)\n",
    "    \n",
    "    def _loss(self, true, pred):\n",
    "        return -(true * np.log(pred) + (1 - true) * np.log(1 - pred))"
   ]
  },
  {
   "cell_type": "code",
   "execution_count": 35,
   "id": "bd9c0d9e",
   "metadata": {},
   "outputs": [],
   "source": [
    "EM_model = EM(X_train.shape[1], lr=25, batch_size=10000)"
   ]
  },
  {
   "cell_type": "code",
   "execution_count": 22,
   "id": "e9726582",
   "metadata": {},
   "outputs": [
    {
     "name": "stderr",
     "output_type": "stream",
     "text": [
      " 20%|████████████████                                                                | 1/5 [36:14<2:24:57, 2174.32s/it]"
     ]
    },
    {
     "name": "stdout",
     "output_type": "stream",
     "text": [
      "Корреляция Спирмена: 0.3585\n",
      "Корреляция Кендалла: 0.2527\n"
     ]
    },
    {
     "name": "stderr",
     "output_type": "stream",
     "text": [
      "\r",
      " 40%|███████████████████████████████▏                                              | 2/5 [1:11:56<1:47:46, 2155.58s/it]"
     ]
    },
    {
     "name": "stdout",
     "output_type": "stream",
     "text": [
      "Корреляция Спирмена: 0.3883\n",
      "Корреляция Кендалла: 0.2751\n"
     ]
    },
    {
     "name": "stderr",
     "output_type": "stream",
     "text": [
      "\r",
      " 60%|██████████████████████████████████████████████▊                               | 3/5 [1:47:21<1:11:22, 2141.35s/it]"
     ]
    },
    {
     "name": "stdout",
     "output_type": "stream",
     "text": [
      "Корреляция Спирмена: 0.4142\n",
      "Корреляция Кендалла: 0.2961\n"
     ]
    },
    {
     "name": "stderr",
     "output_type": "stream",
     "text": [
      "\r",
      " 80%|████████████████████████████████████████████████████████████████                | 4/5 [2:24:48<36:23, 2183.03s/it]"
     ]
    },
    {
     "name": "stdout",
     "output_type": "stream",
     "text": [
      "Корреляция Спирмена: 0.4444\n",
      "Корреляция Кендалла: 0.3188\n"
     ]
    },
    {
     "name": "stderr",
     "output_type": "stream",
     "text": [
      "100%|████████████████████████████████████████████████████████████████████████████████| 5/5 [3:01:46<00:00, 2181.30s/it]"
     ]
    },
    {
     "name": "stdout",
     "output_type": "stream",
     "text": [
      "Корреляция Спирмена: 0.4648\n",
      "Корреляция Кендалла: 0.3353\n"
     ]
    },
    {
     "name": "stderr",
     "output_type": "stream",
     "text": [
      "\n"
     ]
    }
   ],
   "source": [
    "EM_model.fit(X_train, train_data, X_test, test_data)"
   ]
  },
  {
   "cell_type": "markdown",
   "id": "bbadb511",
   "metadata": {},
   "source": [
    "Видно, что целевые корреляции на тесте растут, но процесс обучения очень долгий. Для улучшения имеющегося бейзлайна, возьмем в качестве начальной инициализации веса бейзлайн модели и попытаемся их улучшить."
   ]
  },
  {
   "cell_type": "code",
   "execution_count": 20,
   "id": "7505a076",
   "metadata": {},
   "outputs": [],
   "source": [
    "baseline_weights = np.hstack((clf.intercept_, clf.coef_[0])).reshape(1, -1)"
   ]
  },
  {
   "cell_type": "code",
   "execution_count": 21,
   "id": "92ce5fc6",
   "metadata": {},
   "outputs": [],
   "source": [
    "EM_model_improved = EM(X_train.shape[1], lr=25, batch_size=10000)\n",
    "EM_model_improved.W = baseline_weights.copy()"
   ]
  },
  {
   "cell_type": "code",
   "execution_count": 22,
   "id": "3b165755",
   "metadata": {
    "scrolled": false
   },
   "outputs": [
    {
     "name": "stderr",
     "output_type": "stream",
     "text": [
      " 20%|████████████████                                                                | 1/5 [35:20<2:21:23, 2120.93s/it]"
     ]
    },
    {
     "name": "stdout",
     "output_type": "stream",
     "text": [
      "Корреляция Спирмена: 0.7966\n",
      "Корреляция Кендалла: 0.6261\n"
     ]
    },
    {
     "name": "stderr",
     "output_type": "stream",
     "text": [
      "\r",
      " 40%|███████████████████████████████▏                                              | 2/5 [1:11:02<1:46:39, 2133.15s/it]"
     ]
    },
    {
     "name": "stdout",
     "output_type": "stream",
     "text": [
      "Корреляция Спирмена: 0.7965\n",
      "Корреляция Кендалла: 0.6261\n"
     ]
    },
    {
     "name": "stderr",
     "output_type": "stream",
     "text": [
      "\r",
      " 60%|██████████████████████████████████████████████▊                               | 3/5 [1:45:21<1:09:58, 2099.34s/it]"
     ]
    },
    {
     "name": "stdout",
     "output_type": "stream",
     "text": [
      "Корреляция Спирмена: 0.7965\n",
      "Корреляция Кендалла: 0.6261\n"
     ]
    },
    {
     "name": "stderr",
     "output_type": "stream",
     "text": [
      "\r",
      " 80%|████████████████████████████████████████████████████████████████                | 4/5 [2:19:32<34:40, 2080.24s/it]"
     ]
    },
    {
     "name": "stdout",
     "output_type": "stream",
     "text": [
      "Корреляция Спирмена: 0.7965\n",
      "Корреляция Кендалла: 0.6261\n"
     ]
    },
    {
     "name": "stderr",
     "output_type": "stream",
     "text": [
      "100%|████████████████████████████████████████████████████████████████████████████████| 5/5 [2:56:14<00:00, 2114.99s/it]"
     ]
    },
    {
     "name": "stdout",
     "output_type": "stream",
     "text": [
      "Корреляция Спирмена: 0.7965\n",
      "Корреляция Кендалла: 0.6261\n"
     ]
    },
    {
     "name": "stderr",
     "output_type": "stream",
     "text": [
      "\n"
     ]
    }
   ],
   "source": [
    "EM_model_improved.fit(X_train, train_data, X_test, test_data)"
   ]
  },
  {
   "cell_type": "markdown",
   "id": "fdd5fa35",
   "metadata": {},
   "source": [
    "ЕМ модель практически не улучшила результаты логистической регрессии. Это может быть связано с тем, что оптимизация свалилась в локальный минимум и уже не смогла оттуда выбраться. "
   ]
  },
  {
   "cell_type": "markdown",
   "id": "ba396fe9",
   "metadata": {},
   "source": [
    "# 5. Сложность вопросов"
   ]
  },
  {
   "cell_type": "markdown",
   "id": "04985c34",
   "metadata": {},
   "source": [
    "Отранжируем турниры по средней сложности вопросов в них. Как отмечалось выше чем сложнее вопрос, тем меньше его вес в модели."
   ]
  },
  {
   "cell_type": "code",
   "execution_count": 23,
   "id": "69dd1043",
   "metadata": {},
   "outputs": [],
   "source": [
    "unique_qusetions = encoder.categories_[1]\n",
    "em_weights = EM_model_improved.W[0]\n",
    "q_difficulty = {question: difficulty \n",
    "                for question, difficulty in zip(unique_qusetions, em_weights[-len(unique_qusetions):])}\n",
    "train_data['difficulty'] = train_data['questions'].map(q_difficulty)\n",
    "train_data_question_difficulty = (train_data\n",
    "                                  .drop_duplicates(['tournament_id', 'questions'])[\n",
    "                                      ['tournament_id', 'questions', 'difficulty']\n",
    "                                  ])\n",
    "train_data_question_difficulty = (train_data_question_difficulty\n",
    "                                  .groupby(['tournament_id'], as_index=False)['difficulty']\n",
    "                                  .mean()\n",
    "                                  .sort_values('difficulty'))\n",
    "tournament_names = {idx: tournaments_dict[idx]['name']\n",
    "                    for idx in train_data_question_difficulty.tournament_id}\n",
    "train_data_question_difficulty['name'] = train_data_question_difficulty['tournament_id'].map(tournament_names)"
   ]
  },
  {
   "cell_type": "markdown",
   "id": "71c76521",
   "metadata": {},
   "source": [
    "Посмотрим на топ самых сложных турниров. В топе достаточно много крупных чемпионатов (чемпионаты мира, городов, стран и тд)\n"
   ]
  },
  {
   "cell_type": "code",
   "execution_count": 24,
   "id": "00417f84",
   "metadata": {},
   "outputs": [
    {
     "data": {
      "text/html": [
       "<div>\n",
       "<style scoped>\n",
       "    .dataframe tbody tr th:only-of-type {\n",
       "        vertical-align: middle;\n",
       "    }\n",
       "\n",
       "    .dataframe tbody tr th {\n",
       "        vertical-align: top;\n",
       "    }\n",
       "\n",
       "    .dataframe thead th {\n",
       "        text-align: right;\n",
       "    }\n",
       "</style>\n",
       "<table border=\"1\" class=\"dataframe\">\n",
       "  <thead>\n",
       "    <tr style=\"text-align: right;\">\n",
       "      <th></th>\n",
       "      <th>tournament_id</th>\n",
       "      <th>difficulty</th>\n",
       "      <th>name</th>\n",
       "    </tr>\n",
       "  </thead>\n",
       "  <tbody>\n",
       "    <tr>\n",
       "      <th>604</th>\n",
       "      <td>6149</td>\n",
       "      <td>-3.237692</td>\n",
       "      <td>Чемпионат Санкт-Петербурга. Первая лига</td>\n",
       "    </tr>\n",
       "    <tr>\n",
       "      <th>498</th>\n",
       "      <td>5928</td>\n",
       "      <td>-2.300883</td>\n",
       "      <td>Угрюмый Ёрш</td>\n",
       "    </tr>\n",
       "    <tr>\n",
       "      <th>349</th>\n",
       "      <td>5684</td>\n",
       "      <td>-2.056993</td>\n",
       "      <td>Синхрон высшей лиги Москвы</td>\n",
       "    </tr>\n",
       "    <tr>\n",
       "      <th>37</th>\n",
       "      <td>5159</td>\n",
       "      <td>-1.993416</td>\n",
       "      <td>Первенство правого полушария</td>\n",
       "    </tr>\n",
       "    <tr>\n",
       "      <th>582</th>\n",
       "      <td>6101</td>\n",
       "      <td>-1.718463</td>\n",
       "      <td>Воображаемый музей</td>\n",
       "    </tr>\n",
       "    <tr>\n",
       "      <th>7</th>\n",
       "      <td>5025</td>\n",
       "      <td>-1.696638</td>\n",
       "      <td>Кубок городов</td>\n",
       "    </tr>\n",
       "    <tr>\n",
       "      <th>268</th>\n",
       "      <td>5587</td>\n",
       "      <td>-1.672000</td>\n",
       "      <td>Записки охотника</td>\n",
       "    </tr>\n",
       "    <tr>\n",
       "      <th>20</th>\n",
       "      <td>5083</td>\n",
       "      <td>-1.583844</td>\n",
       "      <td>Ускользающая сова</td>\n",
       "    </tr>\n",
       "    <tr>\n",
       "      <th>168</th>\n",
       "      <td>5465</td>\n",
       "      <td>-1.561714</td>\n",
       "      <td>Чемпионат России</td>\n",
       "    </tr>\n",
       "    <tr>\n",
       "      <th>357</th>\n",
       "      <td>5693</td>\n",
       "      <td>-1.481556</td>\n",
       "      <td>Знание – Сила VI</td>\n",
       "    </tr>\n",
       "    <tr>\n",
       "      <th>38</th>\n",
       "      <td>5161</td>\n",
       "      <td>-1.473424</td>\n",
       "      <td>Антибинго</td>\n",
       "    </tr>\n",
       "    <tr>\n",
       "      <th>373</th>\n",
       "      <td>5741</td>\n",
       "      <td>-1.430949</td>\n",
       "      <td>All Cats Are Beautiful</td>\n",
       "    </tr>\n",
       "    <tr>\n",
       "      <th>414</th>\n",
       "      <td>5795</td>\n",
       "      <td>-1.360762</td>\n",
       "      <td>Кубок Москвы</td>\n",
       "    </tr>\n",
       "    <tr>\n",
       "      <th>43</th>\n",
       "      <td>5186</td>\n",
       "      <td>-1.344624</td>\n",
       "      <td>VERSUS: Коробейников vs. Матвеев</td>\n",
       "    </tr>\n",
       "    <tr>\n",
       "      <th>59</th>\n",
       "      <td>5303</td>\n",
       "      <td>-1.322629</td>\n",
       "      <td>Мемориал Дмитрия Коноваленко</td>\n",
       "    </tr>\n",
       "    <tr>\n",
       "      <th>22</th>\n",
       "      <td>5098</td>\n",
       "      <td>-1.317788</td>\n",
       "      <td>Ра-II: синхрон \"Борского корабела\"</td>\n",
       "    </tr>\n",
       "    <tr>\n",
       "      <th>250</th>\n",
       "      <td>5563</td>\n",
       "      <td>-1.304046</td>\n",
       "      <td>Линч</td>\n",
       "    </tr>\n",
       "    <tr>\n",
       "      <th>120</th>\n",
       "      <td>5412</td>\n",
       "      <td>-1.297040</td>\n",
       "      <td>Серия Premier. Седьмая печать</td>\n",
       "    </tr>\n",
       "    <tr>\n",
       "      <th>542</th>\n",
       "      <td>5996</td>\n",
       "      <td>-1.280679</td>\n",
       "      <td>Тихий Донец: омут первый</td>\n",
       "    </tr>\n",
       "    <tr>\n",
       "      <th>506</th>\n",
       "      <td>5942</td>\n",
       "      <td>-1.251240</td>\n",
       "      <td>Чемпионат Мира. Этап 2. Группа В</td>\n",
       "    </tr>\n",
       "    <tr>\n",
       "      <th>213</th>\n",
       "      <td>5515</td>\n",
       "      <td>-1.201398</td>\n",
       "      <td>Чемпионат Минска. Лига А. Тур четвёртый</td>\n",
       "    </tr>\n",
       "    <tr>\n",
       "      <th>510</th>\n",
       "      <td>5946</td>\n",
       "      <td>-1.184017</td>\n",
       "      <td>Чемпионат Мира. Этап 3. Группа В</td>\n",
       "    </tr>\n",
       "    <tr>\n",
       "      <th>128</th>\n",
       "      <td>5421</td>\n",
       "      <td>-1.130339</td>\n",
       "      <td>Львов зимой. Адвокат</td>\n",
       "    </tr>\n",
       "    <tr>\n",
       "      <th>404</th>\n",
       "      <td>5780</td>\n",
       "      <td>-1.108911</td>\n",
       "      <td>Кубок ярмарок</td>\n",
       "    </tr>\n",
       "    <tr>\n",
       "      <th>507</th>\n",
       "      <td>5943</td>\n",
       "      <td>-1.100561</td>\n",
       "      <td>Чемпионат Мира. Этап 2 Группа С</td>\n",
       "    </tr>\n",
       "    <tr>\n",
       "      <th>384</th>\n",
       "      <td>5757</td>\n",
       "      <td>-1.080794</td>\n",
       "      <td>Открытый Кубок России</td>\n",
       "    </tr>\n",
       "    <tr>\n",
       "      <th>44</th>\n",
       "      <td>5187</td>\n",
       "      <td>-1.075445</td>\n",
       "      <td>VERSUS: Ершов vs. Рух</td>\n",
       "    </tr>\n",
       "    <tr>\n",
       "      <th>383</th>\n",
       "      <td>5756</td>\n",
       "      <td>-1.063842</td>\n",
       "      <td>Жизнь и время Михаэля К.</td>\n",
       "    </tr>\n",
       "    <tr>\n",
       "      <th>200</th>\n",
       "      <td>5501</td>\n",
       "      <td>-1.045763</td>\n",
       "      <td>Кубок Кайнозоя</td>\n",
       "    </tr>\n",
       "    <tr>\n",
       "      <th>504</th>\n",
       "      <td>5940</td>\n",
       "      <td>-1.024621</td>\n",
       "      <td>Чемпионат Мира. Этап 1. Группа С</td>\n",
       "    </tr>\n",
       "  </tbody>\n",
       "</table>\n",
       "</div>"
      ],
      "text/plain": [
       "     tournament_id  difficulty                                     name\n",
       "604           6149   -3.237692  Чемпионат Санкт-Петербурга. Первая лига\n",
       "498           5928   -2.300883                              Угрюмый Ёрш\n",
       "349           5684   -2.056993               Синхрон высшей лиги Москвы\n",
       "37            5159   -1.993416             Первенство правого полушария\n",
       "582           6101   -1.718463                       Воображаемый музей\n",
       "7             5025   -1.696638                            Кубок городов\n",
       "268           5587   -1.672000                         Записки охотника\n",
       "20            5083   -1.583844                        Ускользающая сова\n",
       "168           5465   -1.561714                         Чемпионат России\n",
       "357           5693   -1.481556                         Знание – Сила VI\n",
       "38            5161   -1.473424                                Антибинго\n",
       "373           5741   -1.430949                   All Cats Are Beautiful\n",
       "414           5795   -1.360762                             Кубок Москвы\n",
       "43            5186   -1.344624         VERSUS: Коробейников vs. Матвеев\n",
       "59            5303   -1.322629             Мемориал Дмитрия Коноваленко\n",
       "22            5098   -1.317788       Ра-II: синхрон \"Борского корабела\"\n",
       "250           5563   -1.304046                                     Линч\n",
       "120           5412   -1.297040            Серия Premier. Седьмая печать\n",
       "542           5996   -1.280679                 Тихий Донец: омут первый\n",
       "506           5942   -1.251240         Чемпионат Мира. Этап 2. Группа В\n",
       "213           5515   -1.201398  Чемпионат Минска. Лига А. Тур четвёртый\n",
       "510           5946   -1.184017         Чемпионат Мира. Этап 3. Группа В\n",
       "128           5421   -1.130339                     Львов зимой. Адвокат\n",
       "404           5780   -1.108911                            Кубок ярмарок\n",
       "507           5943   -1.100561          Чемпионат Мира. Этап 2 Группа С\n",
       "384           5757   -1.080794                    Открытый Кубок России\n",
       "44            5187   -1.075445                    VERSUS: Ершов vs. Рух\n",
       "383           5756   -1.063842                 Жизнь и время Михаэля К.\n",
       "200           5501   -1.045763                           Кубок Кайнозоя\n",
       "504           5940   -1.024621         Чемпионат Мира. Этап 1. Группа С"
      ]
     },
     "execution_count": 24,
     "metadata": {},
     "output_type": "execute_result"
    }
   ],
   "source": [
    "train_data_question_difficulty.head(30)"
   ]
  },
  {
   "cell_type": "markdown",
   "id": "18cdb6eb",
   "metadata": {},
   "source": [
    "Посмотрим на топ самых простых турниров. Среди самых простых турниров мы видим чемпионаты вузов, школ и тд."
   ]
  },
  {
   "cell_type": "code",
   "execution_count": 25,
   "id": "fd993f0b",
   "metadata": {},
   "outputs": [
    {
     "data": {
      "text/html": [
       "<div>\n",
       "<style scoped>\n",
       "    .dataframe tbody tr th:only-of-type {\n",
       "        vertical-align: middle;\n",
       "    }\n",
       "\n",
       "    .dataframe tbody tr th {\n",
       "        vertical-align: top;\n",
       "    }\n",
       "\n",
       "    .dataframe thead th {\n",
       "        text-align: right;\n",
       "    }\n",
       "</style>\n",
       "<table border=\"1\" class=\"dataframe\">\n",
       "  <thead>\n",
       "    <tr style=\"text-align: right;\">\n",
       "      <th></th>\n",
       "      <th>tournament_id</th>\n",
       "      <th>difficulty</th>\n",
       "      <th>name</th>\n",
       "    </tr>\n",
       "  </thead>\n",
       "  <tbody>\n",
       "    <tr>\n",
       "      <th>274</th>\n",
       "      <td>5593</td>\n",
       "      <td>1.014022</td>\n",
       "      <td>Межфакультетский кубок МГУ. Отбор №3</td>\n",
       "    </tr>\n",
       "    <tr>\n",
       "      <th>593</th>\n",
       "      <td>6122</td>\n",
       "      <td>1.037040</td>\n",
       "      <td>Гран-при Бауманки. 2 этап. Кубок весей</td>\n",
       "    </tr>\n",
       "    <tr>\n",
       "      <th>101</th>\n",
       "      <td>5391</td>\n",
       "      <td>1.047850</td>\n",
       "      <td>Чемпионат Минска. Лига Б. Тур четвёртый</td>\n",
       "    </tr>\n",
       "    <tr>\n",
       "      <th>327</th>\n",
       "      <td>5654</td>\n",
       "      <td>1.054008</td>\n",
       "      <td>Первое зеркало ЮЧЕ</td>\n",
       "    </tr>\n",
       "    <tr>\n",
       "      <th>280</th>\n",
       "      <td>5601</td>\n",
       "      <td>1.076979</td>\n",
       "      <td>Межфакультетский кубок МГУ. Отбор №4</td>\n",
       "    </tr>\n",
       "    <tr>\n",
       "      <th>338</th>\n",
       "      <td>5667</td>\n",
       "      <td>1.078456</td>\n",
       "      <td>Командум</td>\n",
       "    </tr>\n",
       "    <tr>\n",
       "      <th>319</th>\n",
       "      <td>5645</td>\n",
       "      <td>1.084874</td>\n",
       "      <td>Школьники - взрослым</td>\n",
       "    </tr>\n",
       "    <tr>\n",
       "      <th>450</th>\n",
       "      <td>5854</td>\n",
       "      <td>1.107095</td>\n",
       "      <td>Лига вузов. III тур</td>\n",
       "    </tr>\n",
       "    <tr>\n",
       "      <th>19</th>\n",
       "      <td>5078</td>\n",
       "      <td>1.114934</td>\n",
       "      <td>Синхрон-lite. Выпуск XXV</td>\n",
       "    </tr>\n",
       "    <tr>\n",
       "      <th>395</th>\n",
       "      <td>5771</td>\n",
       "      <td>1.125614</td>\n",
       "      <td>Кубок кабачков</td>\n",
       "    </tr>\n",
       "    <tr>\n",
       "      <th>419</th>\n",
       "      <td>5807</td>\n",
       "      <td>1.135541</td>\n",
       "      <td>Лига Сибири. II тур.</td>\n",
       "    </tr>\n",
       "    <tr>\n",
       "      <th>546</th>\n",
       "      <td>6008</td>\n",
       "      <td>1.231715</td>\n",
       "      <td>Малый кубок Физтеха</td>\n",
       "    </tr>\n",
       "    <tr>\n",
       "      <th>277</th>\n",
       "      <td>5598</td>\n",
       "      <td>1.242741</td>\n",
       "      <td>Лёгкий Смоленск</td>\n",
       "    </tr>\n",
       "    <tr>\n",
       "      <th>493</th>\n",
       "      <td>5916</td>\n",
       "      <td>1.254452</td>\n",
       "      <td>Кубок красной кнопки</td>\n",
       "    </tr>\n",
       "    <tr>\n",
       "      <th>525</th>\n",
       "      <td>5975</td>\n",
       "      <td>1.300153</td>\n",
       "      <td>Чемпионат Минска. Лига Б. Тур первый</td>\n",
       "    </tr>\n",
       "    <tr>\n",
       "      <th>452</th>\n",
       "      <td>5857</td>\n",
       "      <td>1.340633</td>\n",
       "      <td>Летний салат</td>\n",
       "    </tr>\n",
       "    <tr>\n",
       "      <th>157</th>\n",
       "      <td>5452</td>\n",
       "      <td>1.347969</td>\n",
       "      <td>ВДИ - март</td>\n",
       "    </tr>\n",
       "    <tr>\n",
       "      <th>496</th>\n",
       "      <td>5924</td>\n",
       "      <td>1.375582</td>\n",
       "      <td>Кубок Оливье</td>\n",
       "    </tr>\n",
       "    <tr>\n",
       "      <th>451</th>\n",
       "      <td>5855</td>\n",
       "      <td>1.385478</td>\n",
       "      <td>Лига вузов. IV тур</td>\n",
       "    </tr>\n",
       "    <tr>\n",
       "      <th>444</th>\n",
       "      <td>5844</td>\n",
       "      <td>1.396472</td>\n",
       "      <td>Синхрон простых вопросов. Зима</td>\n",
       "    </tr>\n",
       "    <tr>\n",
       "      <th>523</th>\n",
       "      <td>5967</td>\n",
       "      <td>1.424921</td>\n",
       "      <td>ОЧВР. 3 тур</td>\n",
       "    </tr>\n",
       "    <tr>\n",
       "      <th>524</th>\n",
       "      <td>5972</td>\n",
       "      <td>1.453666</td>\n",
       "      <td>Кубок малых городов</td>\n",
       "    </tr>\n",
       "    <tr>\n",
       "      <th>189</th>\n",
       "      <td>5489</td>\n",
       "      <td>1.471577</td>\n",
       "      <td>Школьнае люстэрка</td>\n",
       "    </tr>\n",
       "    <tr>\n",
       "      <th>30</th>\n",
       "      <td>5128</td>\n",
       "      <td>1.513789</td>\n",
       "      <td>Лига Сибири. IV тур.</td>\n",
       "    </tr>\n",
       "    <tr>\n",
       "      <th>368</th>\n",
       "      <td>5728</td>\n",
       "      <td>1.540667</td>\n",
       "      <td>Синхрон-lite. Выпуск XXIX</td>\n",
       "    </tr>\n",
       "    <tr>\n",
       "      <th>144</th>\n",
       "      <td>5438</td>\n",
       "      <td>1.585294</td>\n",
       "      <td>Синхрон Лиги Разума</td>\n",
       "    </tr>\n",
       "    <tr>\n",
       "      <th>32</th>\n",
       "      <td>5130</td>\n",
       "      <td>1.586963</td>\n",
       "      <td>Лига Сибири. VI тур.</td>\n",
       "    </tr>\n",
       "    <tr>\n",
       "      <th>209</th>\n",
       "      <td>5511</td>\n",
       "      <td>1.603052</td>\n",
       "      <td>KFC</td>\n",
       "    </tr>\n",
       "    <tr>\n",
       "      <th>186</th>\n",
       "      <td>5486</td>\n",
       "      <td>1.610531</td>\n",
       "      <td>Маленькае люстэрка</td>\n",
       "    </tr>\n",
       "    <tr>\n",
       "      <th>369</th>\n",
       "      <td>5729</td>\n",
       "      <td>1.773389</td>\n",
       "      <td>Синхрон-lite. Выпуск XXX</td>\n",
       "    </tr>\n",
       "  </tbody>\n",
       "</table>\n",
       "</div>"
      ],
      "text/plain": [
       "     tournament_id  difficulty                                     name\n",
       "274           5593    1.014022     Межфакультетский кубок МГУ. Отбор №3\n",
       "593           6122    1.037040   Гран-при Бауманки. 2 этап. Кубок весей\n",
       "101           5391    1.047850  Чемпионат Минска. Лига Б. Тур четвёртый\n",
       "327           5654    1.054008                       Первое зеркало ЮЧЕ\n",
       "280           5601    1.076979     Межфакультетский кубок МГУ. Отбор №4\n",
       "338           5667    1.078456                                 Командум\n",
       "319           5645    1.084874                     Школьники - взрослым\n",
       "450           5854    1.107095                      Лига вузов. III тур\n",
       "19            5078    1.114934                 Синхрон-lite. Выпуск XXV\n",
       "395           5771    1.125614                           Кубок кабачков\n",
       "419           5807    1.135541                     Лига Сибири. II тур.\n",
       "546           6008    1.231715                      Малый кубок Физтеха\n",
       "277           5598    1.242741                          Лёгкий Смоленск\n",
       "493           5916    1.254452                     Кубок красной кнопки\n",
       "525           5975    1.300153     Чемпионат Минска. Лига Б. Тур первый\n",
       "452           5857    1.340633                             Летний салат\n",
       "157           5452    1.347969                               ВДИ - март\n",
       "496           5924    1.375582                             Кубок Оливье\n",
       "451           5855    1.385478                       Лига вузов. IV тур\n",
       "444           5844    1.396472           Синхрон простых вопросов. Зима\n",
       "523           5967    1.424921                              ОЧВР. 3 тур\n",
       "524           5972    1.453666                      Кубок малых городов\n",
       "189           5489    1.471577                        Школьнае люстэрка\n",
       "30            5128    1.513789                     Лига Сибири. IV тур.\n",
       "368           5728    1.540667                Синхрон-lite. Выпуск XXIX\n",
       "144           5438    1.585294                      Синхрон Лиги Разума\n",
       "32            5130    1.586963                     Лига Сибири. VI тур.\n",
       "209           5511    1.603052                                      KFC\n",
       "186           5486    1.610531                       Маленькае люстэрка\n",
       "369           5729    1.773389                 Синхрон-lite. Выпуск XXX"
      ]
     },
     "execution_count": 25,
     "metadata": {},
     "output_type": "execute_result"
    }
   ],
   "source": [
    "train_data_question_difficulty.tail(30)"
   ]
  },
  {
   "cell_type": "markdown",
   "id": "0beefb8d",
   "metadata": {},
   "source": [
    "Можем заключить, что модель в принципе справилась с оценкой сложности вопросов, так как в топ по сложности попали чемпионаты серьезного уровня, в то время как в числе простых оказались школьные и вузовские этапы."
   ]
  }
 ],
 "metadata": {
  "kernelspec": {
   "display_name": "Python 3",
   "language": "python",
   "name": "python3"
  },
  "language_info": {
   "codemirror_mode": {
    "name": "ipython",
    "version": 3
   },
   "file_extension": ".py",
   "mimetype": "text/x-python",
   "name": "python",
   "nbconvert_exporter": "python",
   "pygments_lexer": "ipython3",
   "version": "3.8.8"
  }
 },
 "nbformat": 4,
 "nbformat_minor": 5
}
